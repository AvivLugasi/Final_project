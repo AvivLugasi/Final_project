{
 "cells": [
  {
   "cell_type": "code",
   "execution_count": 17,
   "metadata": {
    "collapsed": true
   },
   "outputs": [],
   "source": [
    "from flask import Flask, request, render_template, url_for, jsonify\n",
    "import os\n",
    "import shutil\n",
    "from data_utils.utils_function import *\n",
    "from data_utils.get_planet_scenes import search, download_tif_files\n",
    "import json\n",
    "import collections\n",
    "\n",
    "os.environ['CUDA_VISIBLE_DEVICES'] = '0'\n",
    "collections.Iterable = collections.abc.Iterable\n",
    "from deploy_model_instances import *\n",
    "from data_handler import *\n",
    "\n",
    "\n",
    "class MarineDebrisApp:\n",
    "    def __init__(self):\n",
    "        self.app = Flask(__name__)\n",
    "        self.MAX_CLOUD_PERCENTAGE = 0.5\n",
    "        self.SEARCH_FOLDER = \"searches/2023-05-13_19-21-56.487285\"\n",
    "        self.model = ModelDeployment(model_weights_path=\"best_model_efficientnetb4_4.h5\")\n",
    "        self.results_list = []\n",
    "        self.app.route(\"/\")(self.home)\n",
    "        self.app.route(\"/Dashboard\")(self.dashboard)\n",
    "        self.app.route('/upload_geojson', methods=['POST'])(self.upload_geojson)\n",
    "        self.app.route('/get_images')(self.get_images)\n",
    "        self.app.route('/predict', methods=['POST','GET'])(self.predict)\n",
    "\n",
    "    def home(self):\n",
    "        return render_template(\"index.html\", css_file=url_for('static', filename='mapbox-gl-draw.css'),\n",
    "                               js_file=url_for('static', filename='mapbox-gl-draw.js'))\n",
    "\n",
    "    def dashboard(self):\n",
    "        return render_template(\"dashboard.html\")\n",
    "\n",
    "    def upload_geojson(self):\n",
    "        posted_file = str(request.files['geojsonFile'].read(), 'utf-8')\n",
    "        posted_file = json.loads(posted_file)\n",
    "        geometry_json, start_date_time_formatted, end_date_time_formatted = \\\n",
    "            extract_geometry_timerange_from_json(posted_file)\n",
    "        print(geometry_json)\n",
    "        print(start_date_time_formatted)\n",
    "        print(end_date_time_formatted)\n",
    "        q_res = search(geometry=geometry_json, start_date=start_date_time_formatted\n",
    "                     , end_date=end_date_time_formatted, cc=self.MAX_CLOUD_PERCENTAGE)\n",
    "        self.SEARCH_FOLDER = download_tif_files(q_res)\n",
    "        print(\"files were downloaded to {}\".format(self.SEARCH_FOLDER))\n",
    "        return render_template(\"dashboard.html\", search_path=self.SEARCH_FOLDER)\n",
    "\n",
    "    def get_images(self):\n",
    "        source_dir = os.path.join(\"static\", \"predictions\").replace(\"\\\\\", \"/\")\n",
    "        target_dir = 'static/images'\n",
    "\n",
    "        # Copy image files from the source directory to the target directory\n",
    "        for filename in os.listdir(source_dir):\n",
    "            source_path = os.path.join(source_dir, filename)\n",
    "            target_path = os.path.join(target_dir, filename)\n",
    "            shutil.copy2(source_path, target_path)\n",
    "\n",
    "        # Get the list of image files in the target directory\n",
    "        image_files = [f for f in os.listdir(target_dir)\n",
    "                       if os.path.isfile(os.path.join(target_dir, f))\n",
    "                       and '.jpg' in f]\n",
    "        image_urls = [{'image_url': f'/static/images/{f}', 'image_name': f} for f in image_files]\n",
    "        return jsonify(image_urls)\n",
    "\n",
    "    def predict(self):\n",
    "        model_input = data_load(self.SEARCH_FOLDER)\n",
    "        self.results_list = self.model.execute_job(input_data=model_input)\n",
    "        predictions_path = os.path.join(\"static\", \"predictions\").replace(\"\\\\\", \"/\")\n",
    "        writing_results(self.results_list, predictions_path)\n",
    "        print(\"predicting\")\n",
    "        return self.dashboard()\n",
    "\n",
    "    def run(self):\n",
    "        self.app.run()"
   ]
  },
  {
   "cell_type": "code",
   "execution_count": 18,
   "outputs": [
    {
     "name": "stdout",
     "output_type": "stream",
     "text": [
      " * Serving Flask app '__main__'\n",
      " * Debug mode: off\n"
     ]
    },
    {
     "name": "stderr",
     "output_type": "stream",
     "text": [
      "WARNING: This is a development server. Do not use it in a production deployment. Use a production WSGI server instead.\n",
      " * Running on http://127.0.0.1:5000\n",
      "Press CTRL+C to quit\n",
      "127.0.0.1 - - [14/May/2023 03:22:58] \"GET / HTTP/1.1\" 200 -\n",
      "127.0.0.1 - - [14/May/2023 03:22:58] \"GET /static/mapbox-gl-draw.css HTTP/1.1\" 304 -\n",
      "127.0.0.1 - - [14/May/2023 03:22:58] \"GET /static/mapbox-gl-draw.js HTTP/1.1\" 304 -\n",
      "127.0.0.1 - - [14/May/2023 03:23:00] \"GET /Dashboard HTTP/1.1\" 200 -\n",
      "127.0.0.1 - - [14/May/2023 03:23:00] \"GET /static/loading_animation.gif HTTP/1.1\" 304 -\n",
      "127.0.0.1 - - [14/May/2023 03:23:00] \"GET /get_images HTTP/1.1\" 200 -\n",
      "127.0.0.1 - - [14/May/2023 03:23:00] \"GET /static/images/tile_12_8.jpg HTTP/1.1\" 304 -\n",
      "127.0.0.1 - - [14/May/2023 03:23:00] \"GET /static/images/tile_12_8prediction.jpg HTTP/1.1\" 304 -\n",
      "127.0.0.1 - - [14/May/2023 03:23:00] \"GET /static/images/tile_22_4.jpg HTTP/1.1\" 304 -\n",
      "127.0.0.1 - - [14/May/2023 03:23:00] \"GET /static/images/tile_22_4prediction.jpg HTTP/1.1\" 304 -\n",
      "127.0.0.1 - - [14/May/2023 03:23:00] \"GET /static/images/tile_22_6.jpg HTTP/1.1\" 304 -\n",
      "127.0.0.1 - - [14/May/2023 03:23:00] \"GET /static/images/tile_22_6prediction.jpg HTTP/1.1\" 304 -\n",
      "127.0.0.1 - - [14/May/2023 03:23:00] \"GET /static/images/tile_22_7.jpg HTTP/1.1\" 304 -\n",
      "127.0.0.1 - - [14/May/2023 03:23:00] \"GET /static/images/tile_24_6.jpg HTTP/1.1\" 304 -\n",
      "127.0.0.1 - - [14/May/2023 03:23:00] \"GET /static/images/tile_24_6prediction.jpg HTTP/1.1\" 304 -\n",
      "127.0.0.1 - - [14/May/2023 03:23:00] \"GET /static/images/tile_24_7.jpg HTTP/1.1\" 304 -\n",
      "127.0.0.1 - - [14/May/2023 03:23:00] \"GET /static/images/tile_25_5prediction.jpg HTTP/1.1\" 304 -\n",
      "127.0.0.1 - - [14/May/2023 03:23:00] \"GET /static/images/tile_25_6.jpg HTTP/1.1\" 304 -\n",
      "127.0.0.1 - - [14/May/2023 03:23:00] \"GET /static/images/tile_23_7prediction.jpg HTTP/1.1\" 304 -\n",
      "127.0.0.1 - - [14/May/2023 03:23:00] \"GET /static/images/tile_25_6prediction.jpg HTTP/1.1\" 304 -\n",
      "127.0.0.1 - - [14/May/2023 03:23:00] \"GET /static/images/tile_26_5.jpg HTTP/1.1\" 304 -\n",
      "127.0.0.1 - - [14/May/2023 03:23:00] \"GET /static/images/tile_24_7prediction.jpg HTTP/1.1\" 304 -\n",
      "127.0.0.1 - - [14/May/2023 03:23:00] \"GET /static/images/tile_26_6.jpg HTTP/1.1\" 304 -\n",
      "127.0.0.1 - - [14/May/2023 03:23:00] \"GET /static/images/tile_26_6prediction.jpg HTTP/1.1\" 304 -\n",
      "127.0.0.1 - - [14/May/2023 03:23:00] \"GET /static/images/tile_26_5prediction.jpg HTTP/1.1\" 304 -\n",
      "127.0.0.1 - - [14/May/2023 03:23:00] \"GET /static/images/tile_27_6prediction.jpg HTTP/1.1\" 304 -\n",
      "127.0.0.1 - - [14/May/2023 03:23:00] \"GET /static/images/tile_25_5.jpg HTTP/1.1\" 304 -\n",
      "127.0.0.1 - - [14/May/2023 03:23:00] \"GET /static/images/tile_23_7.jpg HTTP/1.1\" 304 -\n",
      "127.0.0.1 - - [14/May/2023 03:23:00] \"GET /static/images/tile_22_7prediction.jpg HTTP/1.1\" 304 -\n",
      "127.0.0.1 - - [14/May/2023 03:23:00] \"GET /static/images/tile_27_6.jpg HTTP/1.1\" 304 -\n",
      "127.0.0.1 - - [14/May/2023 03:23:00] \"GET /static/images/tile_28_10.jpg HTTP/1.1\" 304 -\n"
     ]
    }
   ],
   "source": [
    "marine_debris_app = MarineDebrisApp()\n",
    "marine_debris_app.run()"
   ],
   "metadata": {
    "collapsed": false,
    "pycharm": {
     "name": "#%%\n"
    }
   }
  },
  {
   "cell_type": "code",
   "execution_count": null,
   "outputs": [],
   "source": [],
   "metadata": {
    "collapsed": false,
    "pycharm": {
     "name": "#%%\n"
    }
   }
  }
 ],
 "metadata": {
  "kernelspec": {
   "display_name": "Python 3",
   "language": "python",
   "name": "python3"
  },
  "language_info": {
   "codemirror_mode": {
    "name": "ipython",
    "version": 2
   },
   "file_extension": ".py",
   "mimetype": "text/x-python",
   "name": "python",
   "nbconvert_exporter": "python",
   "pygments_lexer": "ipython2",
   "version": "2.7.6"
  }
 },
 "nbformat": 4,
 "nbformat_minor": 0
}