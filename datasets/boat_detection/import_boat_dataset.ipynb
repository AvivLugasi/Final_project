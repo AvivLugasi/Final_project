{
 "cells": [
  {
   "cell_type": "code",
   "execution_count": 1,
   "metadata": {
    "collapsed": true
   },
   "outputs": [
    {
     "name": "stdout",
     "output_type": "stream",
     "text": [
      "Collecting roboflow\n",
      "  Downloading roboflow-0.2.34-py3-none-any.whl (50 kB)\n",
      "     -------------------------------------- 50.2/50.2 kB 849.9 kB/s eta 0:00:00\n",
      "Collecting chardet==4.0.0\n",
      "  Downloading chardet-4.0.0-py2.py3-none-any.whl (178 kB)\n",
      "     -------------------------------------- 178.7/178.7 kB 2.7 MB/s eta 0:00:00\n",
      "Collecting opencv-python>=4.1.2\n",
      "  Downloading opencv_python-4.7.0.72-cp37-abi3-win_amd64.whl (38.2 MB)\n",
      "     --------------------------------------- 38.2/38.2 MB 46.7 MB/s eta 0:00:00\n",
      "Collecting python-dotenv\n",
      "  Downloading python_dotenv-1.0.0-py3-none-any.whl (19 kB)\n",
      "Requirement already satisfied: six in d:\\anaconda\\envs\\pythonprojects\\lib\\site-packages (from roboflow) (1.16.0)\n",
      "Requirement already satisfied: matplotlib in d:\\anaconda\\envs\\pythonprojects\\lib\\site-packages (from roboflow) (3.5.2)\n",
      "Requirement already satisfied: urllib3>=1.26.6 in d:\\anaconda\\envs\\pythonprojects\\lib\\site-packages (from roboflow) (1.26.11)\n",
      "Requirement already satisfied: certifi==2022.12.7 in d:\\anaconda\\envs\\pythonprojects\\lib\\site-packages (from roboflow) (2022.12.7)\n",
      "Requirement already satisfied: kiwisolver>=1.3.1 in d:\\anaconda\\envs\\pythonprojects\\lib\\site-packages (from roboflow) (1.4.2)\n",
      "Collecting idna==2.10\n",
      "  Downloading idna-2.10-py2.py3-none-any.whl (58 kB)\n",
      "     ---------------------------------------- 58.8/58.8 kB ? eta 0:00:00\n",
      "Collecting wget\n",
      "  Downloading wget-3.2.zip (10 kB)\n",
      "  Preparing metadata (setup.py): started\n",
      "  Preparing metadata (setup.py): finished with status 'done'\n",
      "Requirement already satisfied: PyYAML>=5.3.1 in d:\\anaconda\\envs\\pythonprojects\\lib\\site-packages (from roboflow) (6.0)\n",
      "Requirement already satisfied: tqdm>=4.41.0 in d:\\anaconda\\envs\\pythonprojects\\lib\\site-packages (from roboflow) (4.64.1)\n",
      "Collecting pyparsing==2.4.7\n",
      "  Downloading pyparsing-2.4.7-py2.py3-none-any.whl (67 kB)\n",
      "     ---------------------------------------- 67.8/67.8 kB ? eta 0:00:00\n",
      "Collecting requests-toolbelt\n",
      "  Downloading requests_toolbelt-0.10.1-py2.py3-none-any.whl (54 kB)\n",
      "     ---------------------------------------- 54.5/54.5 kB ? eta 0:00:00\n",
      "Requirement already satisfied: python-dateutil in d:\\anaconda\\envs\\pythonprojects\\lib\\site-packages (from roboflow) (2.8.2)\n",
      "Requirement already satisfied: numpy>=1.18.5 in d:\\anaconda\\envs\\pythonprojects\\lib\\site-packages (from roboflow) (1.21.5)\n",
      "Requirement already satisfied: requests in d:\\anaconda\\envs\\pythonprojects\\lib\\site-packages (from roboflow) (2.28.1)\n",
      "Requirement already satisfied: Pillow>=7.1.2 in d:\\anaconda\\envs\\pythonprojects\\lib\\site-packages (from roboflow) (9.2.0)\n",
      "Collecting cycler==0.10.0\n",
      "  Downloading cycler-0.10.0-py2.py3-none-any.whl (6.5 kB)\n",
      "Requirement already satisfied: colorama in d:\\anaconda\\envs\\pythonprojects\\lib\\site-packages (from tqdm>=4.41.0->roboflow) (0.4.5)\n",
      "Requirement already satisfied: fonttools>=4.22.0 in d:\\anaconda\\envs\\pythonprojects\\lib\\site-packages (from matplotlib->roboflow) (4.25.0)\n",
      "Requirement already satisfied: packaging>=20.0 in d:\\anaconda\\envs\\pythonprojects\\lib\\site-packages (from matplotlib->roboflow) (21.3)\n",
      "Requirement already satisfied: charset-normalizer<3,>=2 in d:\\anaconda\\envs\\pythonprojects\\lib\\site-packages (from requests->roboflow) (2.0.4)\n",
      "Building wheels for collected packages: wget\n",
      "  Building wheel for wget (setup.py): started\n",
      "  Building wheel for wget (setup.py): finished with status 'done'\n",
      "  Created wheel for wget: filename=wget-3.2-py3-none-any.whl size=9657 sha256=c39a58e726a9725619319aefd915f2dd02432f36da79463f44022883583cf405\n",
      "  Stored in directory: c:\\users\\avivl\\appdata\\local\\pip\\cache\\wheels\\8b\\f1\\7f\\5c94f0a7a505ca1c81cd1d9208ae2064675d97582078e6c769\n",
      "Successfully built wget\n",
      "Installing collected packages: wget, python-dotenv, pyparsing, opencv-python, idna, cycler, chardet, requests-toolbelt, roboflow\n",
      "  Attempting uninstall: pyparsing\n",
      "    Found existing installation: pyparsing 3.0.9\n",
      "    Uninstalling pyparsing-3.0.9:\n",
      "      Successfully uninstalled pyparsing-3.0.9\n",
      "  Attempting uninstall: idna\n",
      "    Found existing installation: idna 3.3\n",
      "    Uninstalling idna-3.3:\n",
      "      Successfully uninstalled idna-3.3\n",
      "  Attempting uninstall: cycler\n",
      "    Found existing installation: cycler 0.11.0\n",
      "    Uninstalling cycler-0.11.0:\n",
      "      Successfully uninstalled cycler-0.11.0\n",
      "Successfully installed chardet-4.0.0 cycler-0.10.0 idna-2.10 opencv-python-4.7.0.72 pyparsing-2.4.7 python-dotenv-1.0.0 requests-toolbelt-0.10.1 roboflow-0.2.34 wget-3.2\n",
      "loading Roboflow workspace...\n",
      "loading Roboflow project...\n",
      "Downloading Dataset Version Zip in boats_detactions-1 to yolov5pytorch: 100% [8143496 / 8143496] bytes\n"
     ]
    },
    {
     "name": "stderr",
     "output_type": "stream",
     "text": [
      "Extracting Dataset Version Zip to boats_detactions-1 in yolov5pytorch:: 100%|██████████| 2542/2542 [00:01<00:00, 1461.47it/s]\n"
     ]
    }
   ],
   "source": [
    "!pip install roboflow\n",
    "\n",
    "from roboflow import Roboflow\n",
    "rf = Roboflow(api_key=\"Jwnngs4OSdhUd8RLJAhH\")\n",
    "project = rf.workspace(\"haifa-university-c0rtf\").project(\"boats_detactions\")\n",
    "dataset = project.version(1).download(\"yolov5\")"
   ]
  },
  {
   "cell_type": "code",
   "execution_count": 4,
   "outputs": [
    {
     "data": {
      "text/plain": "'D:\\\\pythonProjects\\\\final_project\\\\datasets\\\\boat_detection\\\\boats_detactions-1'"
     },
     "execution_count": 4,
     "metadata": {},
     "output_type": "execute_result"
    }
   ],
   "source": [
    "dataset.location"
   ],
   "metadata": {
    "collapsed": false,
    "pycharm": {
     "name": "#%%\n"
    }
   }
  },
  {
   "cell_type": "code",
   "execution_count": null,
   "outputs": [],
   "source": [],
   "metadata": {
    "collapsed": false,
    "pycharm": {
     "name": "#%%\n"
    }
   }
  }
 ],
 "metadata": {
  "kernelspec": {
   "display_name": "Python 3",
   "language": "python",
   "name": "python3"
  },
  "language_info": {
   "codemirror_mode": {
    "name": "ipython",
    "version": 2
   },
   "file_extension": ".py",
   "mimetype": "text/x-python",
   "name": "python",
   "nbconvert_exporter": "python",
   "pygments_lexer": "ipython2",
   "version": "2.7.6"
  }
 },
 "nbformat": 4,
 "nbformat_minor": 0
}